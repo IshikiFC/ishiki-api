{
 "cells": [
  {
   "cell_type": "code",
   "execution_count": 1,
   "id": "9a6b2dfc",
   "metadata": {},
   "outputs": [],
   "source": [
    "import requests"
   ]
  },
  {
   "cell_type": "code",
   "execution_count": 2,
   "id": "66c833fe",
   "metadata": {},
   "outputs": [],
   "source": [
    "url = 'http://localhost:5000/evaluate/grf'\n",
    "response = requests.get(url)"
   ]
  },
  {
   "cell_type": "code",
   "execution_count": 3,
   "id": "0b1f200d",
   "metadata": {},
   "outputs": [
    {
     "data": {
      "text/plain": [
       "[0.01779610849916935,\n",
       " 6.962174836644408e-09,\n",
       " 2.35496666611823e-09,\n",
       " 1.554479058540892e-05,\n",
       " 0.9339337348937988,\n",
       " 0.007622842211276293,\n",
       " 5.7139295677188784e-05,\n",
       " 1.5767593453119844e-08,\n",
       " 1.7653486850122135e-07,\n",
       " 1.113390979412543e-08,\n",
       " 2.8313635880294896e-07,\n",
       " 1.4116332991420677e-08,\n",
       " 3.3619838141728253e-13,\n",
       " 6.766554179193918e-06,\n",
       " 6.071602911106311e-05,\n",
       " 0.032007843255996704,\n",
       " 1.1015739431741167e-09,\n",
       " 1.5310125389689233e-09,\n",
       " 0.008498812094330788]"
      ]
     },
     "execution_count": 3,
     "metadata": {},
     "output_type": "execute_result"
    }
   ],
   "source": [
    "response.json()"
   ]
  },
  {
   "cell_type": "code",
   "execution_count": null,
   "id": "8d79b52a",
   "metadata": {},
   "outputs": [],
   "source": []
  }
 ],
 "metadata": {
  "kernelspec": {
   "display_name": "Python 3",
   "language": "python",
   "name": "python3"
  },
  "language_info": {
   "codemirror_mode": {
    "name": "ipython",
    "version": 3
   },
   "file_extension": ".py",
   "mimetype": "text/x-python",
   "name": "python",
   "nbconvert_exporter": "python",
   "pygments_lexer": "ipython3",
   "version": "3.6.9"
  }
 },
 "nbformat": 4,
 "nbformat_minor": 5
}
