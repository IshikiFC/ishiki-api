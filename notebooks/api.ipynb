{
 "cells": [
  {
   "cell_type": "code",
   "execution_count": null,
   "id": "9a6b2dfc",
   "metadata": {},
   "outputs": [],
   "source": [
    "import requests\n",
    "import json"
   ]
  },
  {
   "cell_type": "code",
   "execution_count": 2,
   "id": "afbec6f7",
   "metadata": {},
   "outputs": [],
   "source": [
    "from gfootball.env import script_helpers\n",
    "import six.moves.cPickle\n",
    "\n",
    "def write_dump(dump, fp):\n",
    "    with open(fp, 'wb') as f:\n",
    "        for step in dump:\n",
    "            six.moves.cPickle.dump(step, f)\n",
    "            \n",
    "def read_dump(fp):\n",
    "    return script_helpers.ScriptHelpers().load_dump(fp)"
   ]
  },
  {
   "cell_type": "code",
   "execution_count": 4,
   "id": "f7950043",
   "metadata": {},
   "outputs": [],
   "source": [
    "dump_fp = '/app/api/resources/matches/grf_hard.dump'\n",
    "dump = read_dump(dump_fp)"
   ]
  },
  {
   "cell_type": "code",
   "execution_count": 6,
   "id": "26284787",
   "metadata": {},
   "outputs": [
    {
     "data": {
      "text/plain": [
       "{'ball': array([ 0.        , -0.        ,  0.11059734]),\n",
       " 'ball_direction': array([-0.        ,  0.        , -0.00191829]),\n",
       " 'ball_rotation': array([ 0., -0.,  0.]),\n",
       " 'left_team': array([[-1.01102936e+00, -0.00000000e+00],\n",
       "        [-4.88725118e-02,  1.31869333e-11],\n",
       "        [-1.01102944e-02,  2.19617531e-01],\n",
       "        [-4.25330520e-01, -1.98274463e-01],\n",
       "        [-5.05139709e-01, -6.42440990e-02],\n",
       "        [-5.05128562e-01,  6.45393059e-02],\n",
       "        [-4.26654398e-01,  1.98944613e-01],\n",
       "        [-1.86243743e-01, -1.07399188e-01],\n",
       "        [-2.70525187e-01, -0.00000000e+00],\n",
       "        [-1.86243743e-01,  1.07399188e-01],\n",
       "        [-1.01078842e-02, -2.19572470e-01]]),\n",
       " 'left_team_direction': array([[ 0.00000000e+00, -0.00000000e+00],\n",
       "        [ 3.58627131e-03,  2.59691210e-11],\n",
       "        [ 0.00000000e+00, -0.00000000e+00],\n",
       "        [ 2.78353691e-03,  1.46290904e-03],\n",
       "        [ 1.50414079e-03,  1.38567970e-03],\n",
       "        [ 1.92277576e-03, -2.72584293e-04],\n",
       "        [ 0.00000000e+00, -0.00000000e+00],\n",
       "        [ 0.00000000e+00, -0.00000000e+00],\n",
       "        [ 0.00000000e+00, -0.00000000e+00],\n",
       "        [ 0.00000000e+00, -0.00000000e+00],\n",
       "        [ 2.41048201e-05,  4.30294196e-04]]),\n",
       " 'left_team_tired_factor': array([0.00000000e+00, 6.49690628e-05, 0.00000000e+00, 6.28829002e-05,\n",
       "        2.64048576e-05, 1.42455101e-05, 0.00000000e+00, 0.00000000e+00,\n",
       "        0.00000000e+00, 0.00000000e+00, 2.26497650e-06]),\n",
       " 'left_team_active': array([ True,  True,  True,  True,  True,  True,  True,  True,  True,\n",
       "         True,  True]),\n",
       " 'left_team_yellow_card': array([False, False, False, False, False, False, False, False, False,\n",
       "        False, False]),\n",
       " 'left_team_roles': array([0, 7, 9, 2, 1, 1, 3, 5, 5, 5, 6]),\n",
       " 'left_team_designated_player': 1,\n",
       " 'right_team': array([[ 1.00971222e+00, -9.74070685e-11],\n",
       "        [-1.70861311e-10, -1.87525973e-02],\n",
       "        [-1.52658077e-03,  2.12376397e-02],\n",
       "        [ 4.26600903e-01,  1.98919266e-01],\n",
       "        [ 5.05048096e-01,  6.41901866e-02],\n",
       "        [ 5.04232049e-01, -6.43985197e-02],\n",
       "        [ 4.26654398e-01, -1.98944613e-01],\n",
       "        [ 1.86243743e-01,  1.07399188e-01],\n",
       "        [ 2.70130336e-01, -3.02638142e-07],\n",
       "        [ 1.86243743e-01, -1.07399188e-01],\n",
       "        [ 1.01102944e-02,  2.19615504e-01]]),\n",
       " 'right_team_direction': array([[-3.37993400e-03, -2.28265212e-10],\n",
       "        [-2.34302605e-10,  2.47868337e-03],\n",
       "        [-2.57103518e-03,  1.47665513e-03],\n",
       "        [-5.35039348e-04, -2.53476581e-04],\n",
       "        [-1.58548355e-03, -1.31552294e-03],\n",
       "        [-3.27895675e-03,  5.36498846e-04],\n",
       "        [-0.00000000e+00,  0.00000000e+00],\n",
       "        [-0.00000000e+00,  0.00000000e+00],\n",
       "        [-1.96800521e-03, -1.91896720e-06],\n",
       "        [-0.00000000e+00,  0.00000000e+00],\n",
       "        [-0.00000000e+00,  0.00000000e+00]]),\n",
       " 'right_team_tired_factor': array([4.66704369e-05, 9.34600830e-05, 7.98702240e-05, 2.50339508e-06,\n",
       "        3.11732292e-05, 4.75645065e-05, 0.00000000e+00, 0.00000000e+00,\n",
       "        1.44839287e-05, 0.00000000e+00, 0.00000000e+00]),\n",
       " 'right_team_active': array([ True,  True,  True,  True,  True,  True,  True,  True,  True,\n",
       "         True,  True]),\n",
       " 'right_team_yellow_card': array([False, False, False, False, False, False, False, False, False,\n",
       "        False, False]),\n",
       " 'right_team_roles': array([0, 7, 9, 2, 1, 1, 3, 5, 5, 5, 6]),\n",
       " 'right_team_designated_player': 1,\n",
       " 'left_agent_sticky_actions': [array([0, 0, 0, 0, 1, 0, 0, 0, 0, 0], dtype=uint8)],\n",
       " 'left_agent_controlled_player': [1],\n",
       " 'right_agent_sticky_actions': [],\n",
       " 'right_agent_controlled_player': [],\n",
       " 'game_mode': 0,\n",
       " 'score': [0, 0],\n",
       " 'ball_owned_team': -1,\n",
       " 'ball_owned_player': -1,\n",
       " 'steps_left': 3000}"
      ]
     },
     "execution_count": 6,
     "metadata": {},
     "output_type": "execute_result"
    }
   ],
   "source": [
    "frame = dump[0]\n",
    "frame['observation']"
   ]
  },
  {
   "cell_type": "code",
   "execution_count": 36,
   "id": "48790d7f",
   "metadata": {},
   "outputs": [
    {
     "name": "stdout",
     "output_type": "stream",
     "text": [
      "l1: { top:175, left: -52, team: 'left' }, \n",
      "l2: { top:175, left: 187, team: 'left' }, \n",
      "l3: { top:266, left: 197, team: 'left' }, \n",
      "l4: { top:92, left: 93, team: 'left' }, \n",
      "l5: { top:148, left: 73, team: 'left' }, \n",
      "l6: { top:201, left: 73, team: 'left' }, \n",
      "l7: { top:257, left: 93, team: 'left' }, \n",
      "l8: { top:130, left: 153, team: 'left' }, \n",
      "l9: { top:175, left: 132, team: 'left' }, \n",
      "l10: { top:219, left: 153, team: 'left' }, \n",
      "l11: { top:83, left: 197, team: 'left' }, \n"
     ]
    }
   ],
   "source": [
    "team = 'left'\n",
    "for i in range(11):\n",
    "    pos = frame['observation'][f'{team}_team'][i]\n",
    "    role = frame['observation'][f'{team}_team_roles'][i]\n",
    "    left, top = convert_position(pos[0], pos[1])\n",
    "    name = '{0}{1}'.format(team[0], i + 1)\n",
    "    print('{0}: {{ top:{1}, left: {2}, team: \\'{3}\\' }}, '.format(name, top, left - 50, team))"
   ]
  },
  {
   "cell_type": "code",
   "execution_count": 24,
   "id": "1caeffd2",
   "metadata": {},
   "outputs": [],
   "source": [
    "def convert_position(x, y):\n",
    "    left = (x + 1) / 2 * 500\n",
    "    top = (y + 0.42) / 0.84 * 350\n",
    "    return int(left), int(top)"
   ]
  },
  {
   "cell_type": "code",
   "execution_count": 14,
   "id": "3228db16",
   "metadata": {},
   "outputs": [
    {
     "data": {
      "text/plain": [
       "{'ball': array([ 0.        , -0.        ,  0.11059734]),\n",
       " 'ball_direction': array([-0.        ,  0.        , -0.00191829]),\n",
       " 'ball_rotation': array([ 0., -0.,  0.]),\n",
       " 'left_team': array([[-1.01102936e+00, -0.00000000e+00],\n",
       "        [-4.88725118e-02,  1.31869333e-11],\n",
       "        [-1.01102944e-02,  2.19617531e-01],\n",
       "        [-4.25330520e-01, -1.98274463e-01],\n",
       "        [-5.05139709e-01, -6.42440990e-02],\n",
       "        [-5.05128562e-01,  6.45393059e-02],\n",
       "        [-4.26654398e-01,  1.98944613e-01],\n",
       "        [-1.86243743e-01, -1.07399188e-01],\n",
       "        [-2.70525187e-01, -0.00000000e+00],\n",
       "        [-1.86243743e-01,  1.07399188e-01],\n",
       "        [-1.01078842e-02, -2.19572470e-01]]),\n",
       " 'left_team_direction': array([[ 0.00000000e+00, -0.00000000e+00],\n",
       "        [ 3.58627131e-03,  2.59691210e-11],\n",
       "        [ 0.00000000e+00, -0.00000000e+00],\n",
       "        [ 2.78353691e-03,  1.46290904e-03],\n",
       "        [ 1.50414079e-03,  1.38567970e-03],\n",
       "        [ 1.92277576e-03, -2.72584293e-04],\n",
       "        [ 0.00000000e+00, -0.00000000e+00],\n",
       "        [ 0.00000000e+00, -0.00000000e+00],\n",
       "        [ 0.00000000e+00, -0.00000000e+00],\n",
       "        [ 0.00000000e+00, -0.00000000e+00],\n",
       "        [ 2.41048201e-05,  4.30294196e-04]]),\n",
       " 'left_team_tired_factor': array([0.00000000e+00, 6.49690628e-05, 0.00000000e+00, 6.28829002e-05,\n",
       "        2.64048576e-05, 1.42455101e-05, 0.00000000e+00, 0.00000000e+00,\n",
       "        0.00000000e+00, 0.00000000e+00, 2.26497650e-06]),\n",
       " 'left_team_active': array([ True,  True,  True,  True,  True,  True,  True,  True,  True,\n",
       "         True,  True]),\n",
       " 'left_team_yellow_card': array([False, False, False, False, False, False, False, False, False,\n",
       "        False, False]),\n",
       " 'left_team_roles': array([0, 7, 9, 2, 1, 1, 3, 5, 5, 5, 6]),\n",
       " 'left_team_designated_player': 1,\n",
       " 'right_team': array([[ 1.00971222e+00, -9.74070685e-11],\n",
       "        [-1.70861311e-10, -1.87525973e-02],\n",
       "        [-1.52658077e-03,  2.12376397e-02],\n",
       "        [ 4.26600903e-01,  1.98919266e-01],\n",
       "        [ 5.05048096e-01,  6.41901866e-02],\n",
       "        [ 5.04232049e-01, -6.43985197e-02],\n",
       "        [ 4.26654398e-01, -1.98944613e-01],\n",
       "        [ 1.86243743e-01,  1.07399188e-01],\n",
       "        [ 2.70130336e-01, -3.02638142e-07],\n",
       "        [ 1.86243743e-01, -1.07399188e-01],\n",
       "        [ 1.01102944e-02,  2.19615504e-01]]),\n",
       " 'right_team_direction': array([[-3.37993400e-03, -2.28265212e-10],\n",
       "        [-2.34302605e-10,  2.47868337e-03],\n",
       "        [-2.57103518e-03,  1.47665513e-03],\n",
       "        [-5.35039348e-04, -2.53476581e-04],\n",
       "        [-1.58548355e-03, -1.31552294e-03],\n",
       "        [-3.27895675e-03,  5.36498846e-04],\n",
       "        [-0.00000000e+00,  0.00000000e+00],\n",
       "        [-0.00000000e+00,  0.00000000e+00],\n",
       "        [-1.96800521e-03, -1.91896720e-06],\n",
       "        [-0.00000000e+00,  0.00000000e+00],\n",
       "        [-0.00000000e+00,  0.00000000e+00]]),\n",
       " 'right_team_tired_factor': array([4.66704369e-05, 9.34600830e-05, 7.98702240e-05, 2.50339508e-06,\n",
       "        3.11732292e-05, 4.75645065e-05, 0.00000000e+00, 0.00000000e+00,\n",
       "        1.44839287e-05, 0.00000000e+00, 0.00000000e+00]),\n",
       " 'right_team_active': array([ True,  True,  True,  True,  True,  True,  True,  True,  True,\n",
       "         True,  True]),\n",
       " 'right_team_yellow_card': array([False, False, False, False, False, False, False, False, False,\n",
       "        False, False]),\n",
       " 'right_team_roles': array([0, 7, 9, 2, 1, 1, 3, 5, 5, 5, 6]),\n",
       " 'right_team_designated_player': 1,\n",
       " 'left_agent_sticky_actions': [array([0, 0, 0, 0, 1, 0, 0, 0, 0, 0], dtype=uint8)],\n",
       " 'left_agent_controlled_player': [1],\n",
       " 'right_agent_sticky_actions': [],\n",
       " 'right_agent_controlled_player': [],\n",
       " 'game_mode': 0,\n",
       " 'score': [0, 0],\n",
       " 'ball_owned_team': -1,\n",
       " 'ball_owned_player': -1,\n",
       " 'steps_left': 3000}"
      ]
     },
     "execution_count": 14,
     "metadata": {},
     "output_type": "execute_result"
    }
   ],
   "source": [
    "frame['observation']"
   ]
  },
  {
   "cell_type": "code",
   "execution_count": 5,
   "id": "19f07244",
   "metadata": {},
   "outputs": [],
   "source": [
    "def frame_to_obs(frame):\n",
    "    obs_raw = frame['observation']    \n",
    "    obs = {\n",
    "        'ball': obs_raw['ball'].tolist(),\n",
    "        'left_team': obs_raw['left_team'].tolist(),\n",
    "        'right_team': obs_raw['right_team'].tolist(),\n",
    "        'active': obs_raw['left_team_designated_player']\n",
    "    }\n",
    "    return obs"
   ]
  },
  {
   "cell_type": "code",
   "execution_count": 6,
   "id": "322db824",
   "metadata": {},
   "outputs": [
    {
     "data": {
      "text/plain": [
       "'{\"ball\": [0.0, -0.0, 0.11059734225273132], \"left_team\": [[-1.0110293626785278, -0.0], [-0.048872511833906174, 1.3186933316144955e-11], [-0.010110294446349144, 0.21961753070354462], [-0.4253305196762085, -0.19827446341514587], [-0.5051397085189819, -0.0642440989613533], [-0.5051285624504089, 0.06453930586576462], [-0.4266543984413147, 0.19894461333751678], [-0.18624374270439148, -0.10739918798208237], [-0.270525187253952, -0.0], [-0.18624374270439148, 0.10739918798208237], [-0.010107884183526039, -0.21957246959209442]], \"right_team\": [[1.0097122192382812, -9.740706852223724e-11], [-1.7086131121057946e-10, -0.018752597272396088], [-0.0015265807742252946, 0.02123763971030712], [0.4266009032726288, 0.19891926646232605], [0.5050480961799622, 0.06419018656015396], [0.5042320489883423, -0.06439851969480515], [0.4266543984413147, -0.19894461333751678], [0.18624374270439148, 0.10739918798208237], [0.27013033628463745, -3.026381421022961e-07], [0.18624374270439148, -0.10739918798208237], [0.010110294446349144, 0.21961550414562225]], \"active\": 1}'"
      ]
     },
     "execution_count": 6,
     "metadata": {},
     "output_type": "execute_result"
    }
   ],
   "source": [
    "obs = frame_to_obs(frame)\n",
    "json.dumps(obs)"
   ]
  },
  {
   "cell_type": "code",
   "execution_count": 12,
   "id": "20753484",
   "metadata": {},
   "outputs": [
    {
     "name": "stdout",
     "output_type": "stream",
     "text": [
      "[-1.0110293626785278, -0.0]\n",
      "[-0.048872511833906174, 1.3186933316144955e-11]\n",
      "[-0.010110294446349144, 0.21961753070354462]\n",
      "[-0.4253305196762085, -0.19827446341514587]\n",
      "[-0.5051397085189819, -0.0642440989613533]\n",
      "[-0.5051285624504089, 0.06453930586576462]\n",
      "[-0.4266543984413147, 0.19894461333751678]\n",
      "[-0.18624374270439148, -0.10739918798208237]\n",
      "[-0.270525187253952, -0.0]\n",
      "[-0.18624374270439148, 0.10739918798208237]\n",
      "[-0.010107884183526039, -0.21957246959209442]\n"
     ]
    }
   ],
   "source": [
    "for pos in obs['left_team']:\n",
    "    print(pos)"
   ]
  },
  {
   "cell_type": "code",
   "execution_count": 13,
   "id": "de6a319d",
   "metadata": {},
   "outputs": [
    {
     "name": "stdout",
     "output_type": "stream",
     "text": [
      "[1.0097122192382812, -9.740706852223724e-11]\n",
      "[-1.7086131121057946e-10, -0.018752597272396088]\n",
      "[-0.0015265807742252946, 0.02123763971030712]\n",
      "[0.4266009032726288, 0.19891926646232605]\n",
      "[0.5050480961799622, 0.06419018656015396]\n",
      "[0.5042320489883423, -0.06439851969480515]\n",
      "[0.4266543984413147, -0.19894461333751678]\n",
      "[0.18624374270439148, 0.10739918798208237]\n",
      "[0.27013033628463745, -3.026381421022961e-07]\n",
      "[0.18624374270439148, -0.10739918798208237]\n",
      "[0.010110294446349144, 0.21961550414562225]\n"
     ]
    }
   ],
   "source": [
    "for pos in obs['right_team']:\n",
    "    print(pos)"
   ]
  },
  {
   "cell_type": "code",
   "execution_count": 10,
   "id": "8779ffc5",
   "metadata": {},
   "outputs": [
    {
     "data": {
      "text/plain": [
       "<Response [200]>"
      ]
     },
     "execution_count": 10,
     "metadata": {},
     "output_type": "execute_result"
    }
   ],
   "source": [
    "url = 'http://localhost:5000/evaluate/grf'\n",
    "response = requests.post(url, json=obs)\n",
    "response"
   ]
  },
  {
   "cell_type": "code",
   "execution_count": 8,
   "id": "719a209f",
   "metadata": {},
   "outputs": [
    {
     "data": {
      "text/plain": [
       "'{\"ball\": [0.0, -0.0, 0.11059734225273132], \"left_team\": [[-1.0110293626785278, -0.0], [-0.048872511833906174, 1.3186933316144955e-11], [-0.010110294446349144, 0.21961753070354462], [-0.4253305196762085, -0.19827446341514587], [-0.5051397085189819, -0.0642440989613533], [-0.5051285624504089, 0.06453930586576462], [-0.4266543984413147, 0.19894461333751678], [-0.18624374270439148, -0.10739918798208237], [-0.270525187253952, -0.0], [-0.18624374270439148, 0.10739918798208237], [-0.010107884183526039, -0.21957246959209442]], \"right_team\": [[1.0097122192382812, -9.740706852223724e-11], [-1.7086131121057946e-10, -0.018752597272396088], [-0.0015265807742252946, 0.02123763971030712], [0.4266009032726288, 0.19891926646232605], [0.5050480961799622, 0.06419018656015396], [0.5042320489883423, -0.06439851969480515], [0.4266543984413147, -0.19894461333751678], [0.18624374270439148, 0.10739918798208237], [0.27013033628463745, -3.026381421022961e-07], [0.18624374270439148, -0.10739918798208237], [0.010110294446349144, 0.21961550414562225]], \"active\": 1}'"
      ]
     },
     "execution_count": 8,
     "metadata": {},
     "output_type": "execute_result"
    }
   ],
   "source": [
    "json.dumps(obs)"
   ]
  },
  {
   "cell_type": "code",
   "execution_count": 11,
   "id": "fc7ddc52",
   "metadata": {},
   "outputs": [
    {
     "data": {
      "text/plain": [
       "{'action': {'bottom': 7.084307185323269e-08,\n",
       "  'bottom_left': 6.562218146655141e-08,\n",
       "  'bottom_right': 3.2407272101409035e-06,\n",
       "  'dribble': 4.459534075351712e-09,\n",
       "  'high_pass': 2.346865990432434e-08,\n",
       "  'idle': 0.039971720427274704,\n",
       "  'left': 2.5103929351955045e-11,\n",
       "  'long_pass': 2.8126427409347343e-08,\n",
       "  'release_direction': 7.84189069236163e-06,\n",
       "  'release_dribble': 0.015270285308361053,\n",
       "  'release_sprint': 0.167897030711174,\n",
       "  'right': 0.7765568494796753,\n",
       "  'short_pass': 3.525676675053546e-07,\n",
       "  'shot': 1.9137941819602467e-16,\n",
       "  'sliding': 1.8132088053235407e-09,\n",
       "  'sprint': 7.502634161937749e-06,\n",
       "  'top': 1.4494312381430063e-06,\n",
       "  'top_left': 4.1205927558962685e-11,\n",
       "  'top_right': 0.0002835662744473666},\n",
       " 'value': 0.3071092367172241}"
      ]
     },
     "execution_count": 11,
     "metadata": {},
     "output_type": "execute_result"
    }
   ],
   "source": [
    "response.json()"
   ]
  },
  {
   "cell_type": "code",
   "execution_count": null,
   "id": "340a42cb",
   "metadata": {},
   "outputs": [],
   "source": [
    "def call_evaluate(obs):\n",
    "    url = 'http://localhost:5000/evaluate/grf'\n",
    "    response = requests.post(url)"
   ]
  },
  {
   "cell_type": "code",
   "execution_count": 4,
   "id": "a4ba14ff",
   "metadata": {
    "scrolled": true
   },
   "outputs": [
    {
     "data": {
      "text/plain": [
       "{'action': [right],\n",
       " 'frame_cnt': 0,\n",
       " 'reward': 0,\n",
       " 'time': 237104.718404038,\n",
       " 'config': {'action_set': 'default',\n",
       "  'custom_display_stats': None,\n",
       "  'display_game_stats': True,\n",
       "  'dump_full_episodes': True,\n",
       "  'dump_scores': False,\n",
       "  'players': ['agent:left_players=0,right_players=0',\n",
       "   'ppo2_cnn:left_players=1,policy=gfootball_impala_cnn,checkpoint=/app/api/models/11_vs_11_easy_stochastic_v2'],\n",
       "  'level': '11_vs_11_easy_stochastic',\n",
       "  'physics_steps_per_frame': 10,\n",
       "  'render_resolution_x': 1280,\n",
       "  'real_time': False,\n",
       "  'tracesdir': '/app/logs',\n",
       "  'video_format': 'avi',\n",
       "  'video_quality_level': 0,\n",
       "  'write_video': True,\n",
       "  'render_resolution_y': 720,\n",
       "  'episode_number': 1,\n",
       "  'reverse_team_processing': True,\n",
       "  'game_engine_random_seed': 968474698}}"
      ]
     },
     "execution_count": 4,
     "metadata": {},
     "output_type": "execute_result"
    }
   ],
   "source": [
    "frame['debug']"
   ]
  },
  {
   "cell_type": "code",
   "execution_count": 5,
   "id": "0c4d29c3",
   "metadata": {},
   "outputs": [
    {
     "data": {
      "text/plain": [
       "{'ball': array([ 0.        , -0.        ,  0.11059734]),\n",
       " 'ball_direction': array([-0.        ,  0.        , -0.00191829]),\n",
       " 'ball_rotation': array([ 0., -0.,  0.]),\n",
       " 'left_team': array([[-1.01102936e+00, -0.00000000e+00],\n",
       "        [-4.88725118e-02,  1.31869333e-11],\n",
       "        [-1.01102944e-02,  2.19617531e-01],\n",
       "        [-4.25330520e-01, -1.98274463e-01],\n",
       "        [-5.05139709e-01, -6.42440990e-02],\n",
       "        [-5.05128562e-01,  6.45393059e-02],\n",
       "        [-4.26654398e-01,  1.98944613e-01],\n",
       "        [-1.86243743e-01, -1.07399188e-01],\n",
       "        [-2.70525187e-01, -0.00000000e+00],\n",
       "        [-1.86243743e-01,  1.07399188e-01],\n",
       "        [-1.01078842e-02, -2.19572470e-01]]),\n",
       " 'left_team_direction': array([[ 0.00000000e+00, -0.00000000e+00],\n",
       "        [ 3.58627131e-03,  2.59691210e-11],\n",
       "        [ 0.00000000e+00, -0.00000000e+00],\n",
       "        [ 2.78353691e-03,  1.46290904e-03],\n",
       "        [ 1.50414079e-03,  1.38567970e-03],\n",
       "        [ 1.92277576e-03, -2.72584293e-04],\n",
       "        [ 0.00000000e+00, -0.00000000e+00],\n",
       "        [ 0.00000000e+00, -0.00000000e+00],\n",
       "        [ 0.00000000e+00, -0.00000000e+00],\n",
       "        [ 0.00000000e+00, -0.00000000e+00],\n",
       "        [ 2.41048201e-05,  4.30294196e-04]]),\n",
       " 'left_team_tired_factor': array([0.00000000e+00, 6.49690628e-05, 0.00000000e+00, 6.28829002e-05,\n",
       "        2.64048576e-05, 1.42455101e-05, 0.00000000e+00, 0.00000000e+00,\n",
       "        0.00000000e+00, 0.00000000e+00, 2.26497650e-06]),\n",
       " 'left_team_active': array([ True,  True,  True,  True,  True,  True,  True,  True,  True,\n",
       "         True,  True]),\n",
       " 'left_team_yellow_card': array([False, False, False, False, False, False, False, False, False,\n",
       "        False, False]),\n",
       " 'left_team_roles': array([0, 7, 9, 2, 1, 1, 3, 5, 5, 5, 6]),\n",
       " 'left_team_designated_player': 1,\n",
       " 'right_team': array([[ 1.00971222e+00, -9.74070685e-11],\n",
       "        [-1.70861311e-10, -1.87525973e-02],\n",
       "        [-1.52658077e-03,  2.12376397e-02],\n",
       "        [ 4.26600903e-01,  1.98919266e-01],\n",
       "        [ 5.05048096e-01,  6.41901866e-02],\n",
       "        [ 5.04232049e-01, -6.43985197e-02],\n",
       "        [ 4.26654398e-01, -1.98944613e-01],\n",
       "        [ 1.86243743e-01,  1.07399188e-01],\n",
       "        [ 2.70130336e-01, -3.02638142e-07],\n",
       "        [ 1.86243743e-01, -1.07399188e-01],\n",
       "        [ 1.01102944e-02,  2.19615504e-01]]),\n",
       " 'right_team_direction': array([[-3.37993400e-03, -2.28265212e-10],\n",
       "        [-2.34302605e-10,  2.47868337e-03],\n",
       "        [-2.57103518e-03,  1.47665513e-03],\n",
       "        [-5.35039348e-04, -2.53476581e-04],\n",
       "        [-1.58548355e-03, -1.31552294e-03],\n",
       "        [-3.27895675e-03,  5.36498846e-04],\n",
       "        [-0.00000000e+00,  0.00000000e+00],\n",
       "        [-0.00000000e+00,  0.00000000e+00],\n",
       "        [-1.96800521e-03, -1.91896720e-06],\n",
       "        [-0.00000000e+00,  0.00000000e+00],\n",
       "        [-0.00000000e+00,  0.00000000e+00]]),\n",
       " 'right_team_tired_factor': array([4.66704369e-05, 9.34600830e-05, 7.98702240e-05, 2.50339508e-06,\n",
       "        3.11732292e-05, 4.75645065e-05, 0.00000000e+00, 0.00000000e+00,\n",
       "        1.44839287e-05, 0.00000000e+00, 0.00000000e+00]),\n",
       " 'right_team_active': array([ True,  True,  True,  True,  True,  True,  True,  True,  True,\n",
       "         True,  True]),\n",
       " 'right_team_yellow_card': array([False, False, False, False, False, False, False, False, False,\n",
       "        False, False]),\n",
       " 'right_team_roles': array([0, 7, 9, 2, 1, 1, 3, 5, 5, 5, 6]),\n",
       " 'right_team_designated_player': 1,\n",
       " 'left_agent_sticky_actions': [array([0, 0, 0, 0, 1, 0, 0, 0, 0, 0], dtype=uint8)],\n",
       " 'left_agent_controlled_player': [1],\n",
       " 'right_agent_sticky_actions': [],\n",
       " 'right_agent_controlled_player': [],\n",
       " 'game_mode': 0,\n",
       " 'score': [0, 0],\n",
       " 'ball_owned_team': -1,\n",
       " 'ball_owned_player': -1,\n",
       " 'steps_left': 3000}"
      ]
     },
     "execution_count": 5,
     "metadata": {},
     "output_type": "execute_result"
    }
   ],
   "source": [
    "frame['observation']"
   ]
  },
  {
   "cell_type": "code",
   "execution_count": 2,
   "id": "66c833fe",
   "metadata": {},
   "outputs": [],
   "source": [
    "url = 'http://localhost:5000/evaluate/grf'\n",
    "response = requests.get(url)"
   ]
  },
  {
   "cell_type": "code",
   "execution_count": 10,
   "id": "0b1f200d",
   "metadata": {},
   "outputs": [
    {
     "data": {
      "text/plain": [
       "[0.01779610849916935,\n",
       " 6.962174836644408e-09,\n",
       " 2.35496666611823e-09,\n",
       " 1.554479058540892e-05,\n",
       " 0.9339337348937988,\n",
       " 0.007622842211276293,\n",
       " 5.7139295677188784e-05,\n",
       " 1.5767593453119844e-08,\n",
       " 1.7653486850122135e-07,\n",
       " 1.113390979412543e-08,\n",
       " 2.8313635880294896e-07,\n",
       " 1.4116332991420677e-08,\n",
       " 3.3619838141728253e-13,\n",
       " 6.766554179193918e-06,\n",
       " 6.071602911106311e-05,\n",
       " 0.032007843255996704,\n",
       " 1.1015739431741167e-09,\n",
       " 1.5310125389689233e-09,\n",
       " 0.008498812094330788]"
      ]
     },
     "execution_count": 10,
     "metadata": {},
     "output_type": "execute_result"
    }
   ],
   "source": [
    "response.json()"
   ]
  },
  {
   "cell_type": "code",
   "execution_count": null,
   "id": "d6cdb544",
   "metadata": {
    "pycharm": {
     "name": "#%%\n"
    }
   },
   "outputs": [],
   "source": [
    "from gfootball.env import football_action_set"
   ]
  },
  {
   "cell_type": "code",
   "execution_count": null,
   "id": "e1069059",
   "metadata": {
    "pycharm": {
     "name": "#%%\n"
    }
   },
   "outputs": [],
   "source": [
    "len()"
   ]
  },
  {
   "cell_type": "code",
   "execution_count": null,
   "id": "f32baaa7",
   "metadata": {
    "pycharm": {
     "name": "#%%\n"
    }
   },
   "outputs": [],
   "source": [
    "len(response.json())\n"
   ]
  },
  {
   "cell_type": "code",
   "execution_count": 12,
   "id": "eb78c2b0",
   "metadata": {},
   "outputs": [],
   "source": [
    "actions = football_action_set.action_set_dict['default']\n",
    "probs = response.json()"
   ]
  },
  {
   "cell_type": "code",
   "execution_count": 13,
   "id": "4a1310a0",
   "metadata": {},
   "outputs": [
    {
     "data": {
      "text/plain": [
       "{idle: 0.01779610849916935,\n",
       " left: 6.962174836644408e-09,\n",
       " top_left: 2.35496666611823e-09,\n",
       " top: 1.554479058540892e-05,\n",
       " top_right: 0.9339337348937988,\n",
       " right: 0.007622842211276293,\n",
       " bottom_right: 5.7139295677188784e-05,\n",
       " bottom: 1.5767593453119844e-08,\n",
       " bottom_left: 1.7653486850122135e-07,\n",
       " long_pass: 1.113390979412543e-08,\n",
       " high_pass: 2.8313635880294896e-07,\n",
       " short_pass: 1.4116332991420677e-08,\n",
       " shot: 3.3619838141728253e-13,\n",
       " sprint: 6.766554179193918e-06,\n",
       " release_direction: 6.071602911106311e-05,\n",
       " release_sprint: 0.032007843255996704,\n",
       " sliding: 1.1015739431741167e-09,\n",
       " dribble: 1.5310125389689233e-09,\n",
       " release_dribble: 0.008498812094330788}"
      ]
     },
     "execution_count": 13,
     "metadata": {},
     "output_type": "execute_result"
    }
   ],
   "source": []
  },
  {
   "cell_type": "code",
   "execution_count": 6,
   "id": "8d79b52a",
   "metadata": {},
   "outputs": [
    {
     "data": {
      "text/plain": [
       "19"
      ]
     },
     "execution_count": 6,
     "metadata": {},
     "output_type": "execute_result"
    }
   ],
   "source": [
    "len(football_action_set.action_set_dict['default'])"
   ]
  },
  {
   "cell_type": "code",
   "execution_count": 8,
   "id": "ff4e0e26",
   "metadata": {},
   "outputs": [
    {
     "data": {
      "text/plain": [
       "19"
      ]
     },
     "execution_count": 8,
     "metadata": {},
     "output_type": "execute_result"
    }
   ],
   "source": [
    "len(response.json())"
   ]
  },
  {
   "cell_type": "code",
   "execution_count": null,
   "id": "efce5540",
   "metadata": {},
   "outputs": [],
   "source": []
  }
 ],
 "metadata": {
  "kernelspec": {
   "display_name": "Python 3",
   "language": "python",
   "name": "python3"
  },
  "language_info": {
   "codemirror_mode": {
    "name": "ipython",
    "version": 3
   },
   "file_extension": ".py",
   "mimetype": "text/x-python",
   "name": "python",
   "nbconvert_exporter": "python",
   "pygments_lexer": "ipython3",
   "version": "3.6.9"
  }
 },
 "nbformat": 4,
 "nbformat_minor": 5
}
