{
 "cells": [
  {
   "cell_type": "code",
   "execution_count": 1,
   "id": "9a6b2dfc",
   "metadata": {},
   "outputs": [],
   "source": [
    "import requests"
   ]
  },
  {
   "cell_type": "code",
   "execution_count": 2,
   "id": "66c833fe",
   "metadata": {},
   "outputs": [],
   "source": [
    "url = 'http://localhost:5000/evaluate/grf'\n",
    "response = requests.get(url)"
   ]
  },
  {
   "cell_type": "code",
   "execution_count": 10,
   "id": "0b1f200d",
   "metadata": {},
   "outputs": [
    {
     "data": {
      "text/plain": [
       "[0.01779610849916935,\n",
       " 6.962174836644408e-09,\n",
       " 2.35496666611823e-09,\n",
       " 1.554479058540892e-05,\n",
       " 0.9339337348937988,\n",
       " 0.007622842211276293,\n",
       " 5.7139295677188784e-05,\n",
       " 1.5767593453119844e-08,\n",
       " 1.7653486850122135e-07,\n",
       " 1.113390979412543e-08,\n",
       " 2.8313635880294896e-07,\n",
       " 1.4116332991420677e-08,\n",
       " 3.3619838141728253e-13,\n",
       " 6.766554179193918e-06,\n",
       " 6.071602911106311e-05,\n",
       " 0.032007843255996704,\n",
       " 1.1015739431741167e-09,\n",
       " 1.5310125389689233e-09,\n",
       " 0.008498812094330788]"
      ]
     },
     "execution_count": 10,
     "metadata": {},
     "output_type": "execute_result"
    }
   ],
   "source": [
    "response.json()"
   ]
  },
  {
   "cell_type": "code",
   "execution_count": null,
   "id": "d6cdb544",
   "metadata": {
    "pycharm": {
     "name": "#%%\n"
    }
   },
   "outputs": [],
   "source": [
    "from gfootball.env import football_action_set"
   ]
  },
  {
   "cell_type": "code",
   "execution_count": null,
   "id": "e1069059",
   "metadata": {
    "pycharm": {
     "name": "#%%\n"
    }
   },
   "outputs": [],
   "source": [
    "len()"
   ]
  },
  {
   "cell_type": "code",
   "execution_count": null,
   "id": "f32baaa7",
   "metadata": {
    "pycharm": {
     "name": "#%%\n"
    }
   },
   "outputs": [],
   "source": [
    "len(response.json())\n"
   ]
  },
  {
   "cell_type": "code",
   "execution_count": 12,
   "id": "eb78c2b0",
   "metadata": {},
   "outputs": [],
   "source": [
    "actions = football_action_set.action_set_dict['default']\n",
    "probs = response.json()"
   ]
  },
  {
   "cell_type": "code",
   "execution_count": 13,
   "id": "4a1310a0",
   "metadata": {},
   "outputs": [
    {
     "data": {
      "text/plain": [
       "{idle: 0.01779610849916935,\n",
       " left: 6.962174836644408e-09,\n",
       " top_left: 2.35496666611823e-09,\n",
       " top: 1.554479058540892e-05,\n",
       " top_right: 0.9339337348937988,\n",
       " right: 0.007622842211276293,\n",
       " bottom_right: 5.7139295677188784e-05,\n",
       " bottom: 1.5767593453119844e-08,\n",
       " bottom_left: 1.7653486850122135e-07,\n",
       " long_pass: 1.113390979412543e-08,\n",
       " high_pass: 2.8313635880294896e-07,\n",
       " short_pass: 1.4116332991420677e-08,\n",
       " shot: 3.3619838141728253e-13,\n",
       " sprint: 6.766554179193918e-06,\n",
       " release_direction: 6.071602911106311e-05,\n",
       " release_sprint: 0.032007843255996704,\n",
       " sliding: 1.1015739431741167e-09,\n",
       " dribble: 1.5310125389689233e-09,\n",
       " release_dribble: 0.008498812094330788}"
      ]
     },
     "execution_count": 13,
     "metadata": {},
     "output_type": "execute_result"
    }
   ],
   "source": []
  },
  {
   "cell_type": "code",
   "execution_count": 6,
   "id": "8d79b52a",
   "metadata": {},
   "outputs": [
    {
     "data": {
      "text/plain": [
       "19"
      ]
     },
     "execution_count": 6,
     "metadata": {},
     "output_type": "execute_result"
    }
   ],
   "source": [
    "len(football_action_set.action_set_dict['default'])"
   ]
  },
  {
   "cell_type": "code",
   "execution_count": 8,
   "id": "ff4e0e26",
   "metadata": {},
   "outputs": [
    {
     "data": {
      "text/plain": [
       "19"
      ]
     },
     "execution_count": 8,
     "metadata": {},
     "output_type": "execute_result"
    }
   ],
   "source": [
    "len(response.json())"
   ]
  },
  {
   "cell_type": "code",
   "execution_count": null,
   "id": "efce5540",
   "metadata": {},
   "outputs": [],
   "source": []
  }
 ],
 "metadata": {
  "kernelspec": {
   "display_name": "Python 3",
   "language": "python",
   "name": "python3"
  },
  "language_info": {
   "codemirror_mode": {
    "name": "ipython",
    "version": 3
   },
   "file_extension": ".py",
   "mimetype": "text/x-python",
   "name": "python",
   "nbconvert_exporter": "python",
   "pygments_lexer": "ipython3",
   "version": "3.6.9"
  }
 },
 "nbformat": 4,
 "nbformat_minor": 5
}