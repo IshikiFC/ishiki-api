{
 "cells": [
  {
   "cell_type": "code",
   "execution_count": 1,
   "id": "64a699c4",
   "metadata": {},
   "outputs": [
    {
     "name": "stdout",
     "output_type": "stream",
     "text": [
      "WARNING:tensorflow:From /usr/local/lib/python3.6/dist-packages/baselines/common/input.py:31: The name tf.placeholder is deprecated. Please use tf.compat.v1.placeholder instead.\n",
      "\n",
      "WARNING:tensorflow:From /usr/local/lib/python3.6/dist-packages/baselines/common/input.py:57: to_float (from tensorflow.python.ops.math_ops) is deprecated and will be removed in a future version.\n",
      "Instructions for updating:\n",
      "Use `tf.cast` instead.\n",
      "WARNING:tensorflow:From /usr/local/lib/python3.6/dist-packages/baselines/common/policies.py:141: The name tf.variable_scope is deprecated. Please use tf.compat.v1.variable_scope instead.\n",
      "\n",
      "WARNING:tensorflow:From /usr/local/lib/python3.6/dist-packages/baselines/common/policies.py:141: The name tf.AUTO_REUSE is deprecated. Please use tf.compat.v1.AUTO_REUSE instead.\n",
      "\n",
      "WARNING:tensorflow:From /usr/local/lib/python3.6/dist-packages/sonnet/python/modules/conv.py:325: calling TruncatedNormal.__init__ (from tensorflow.python.ops.init_ops) with dtype is deprecated and will be removed in a future version.\n",
      "Instructions for updating:\n",
      "Call initializer instance with the dtype argument instead of passing it to the constructor\n",
      "WARNING:tensorflow:From /usr/local/lib/python3.6/dist-packages/sonnet/python/modules/conv.py:330: calling Zeros.__init__ (from tensorflow.python.ops.init_ops) with dtype is deprecated and will be removed in a future version.\n",
      "Instructions for updating:\n",
      "Call initializer instance with the dtype argument instead of passing it to the constructor\n",
      "WARNING:tensorflow:From /usr/local/lib/python3.6/dist-packages/baselines/common/policies.py:43: flatten (from tensorflow.python.layers.core) is deprecated and will be removed in a future version.\n",
      "Instructions for updating:\n",
      "Use keras.layers.flatten instead.\n",
      "WARNING:tensorflow:From /usr/local/lib/python3.6/dist-packages/tensorflow_core/python/layers/core.py:332: Layer.apply (from tensorflow.python.keras.engine.base_layer) is deprecated and will be removed in a future version.\n",
      "Instructions for updating:\n",
      "Please use `layer.__call__` method instead.\n",
      "WARNING:tensorflow:From /usr/local/lib/python3.6/dist-packages/baselines/a2c/utils.py:61: The name tf.get_variable is deprecated. Please use tf.compat.v1.get_variable instead.\n",
      "\n",
      "WARNING:tensorflow:From /usr/local/lib/python3.6/dist-packages/baselines/common/distributions.py:200: The name tf.random_uniform is deprecated. Please use tf.random.uniform instead.\n",
      "\n",
      "WARNING:tensorflow:From /usr/local/lib/python3.6/dist-packages/baselines/common/distributions.py:201: The name tf.log is deprecated. Please use tf.math.log instead.\n",
      "\n"
     ]
    }
   ],
   "source": [
    "import sys, os\n",
    "sys.path.append(os.pardir)\n",
    "\n",
    "import gfootball.env as football_env\n",
    "from api.internal.tamakeri import TamakeriAgent\n",
    "from api.internal.grf import GrfAgent"
   ]
  },
  {
   "cell_type": "code",
   "execution_count": 14,
   "id": "b323d8ad",
   "metadata": {},
   "outputs": [],
   "source": [
    "grf_agent = GrfAgent()\n",
    "tamakeri_agent = TamakeriAgent()"
   ]
  },
  {
   "cell_type": "code",
   "execution_count": 22,
   "id": "4252e77d",
   "metadata": {},
   "outputs": [],
   "source": [
    "dump_fp = '/app/api/resources/matches/episode_done_20210918-064519149416.dump'\n",
    "from gfootball.env import script_helpers, observation_preprocessing\n",
    "\n",
    "dump_raw = script_helpers.ScriptHelpers().load_dump(dump_fp)\n",
    "for frame in dump_raw:\n",
    "    break\n",
    "    \n",
    "def _convert_observation(observation_raw):\n",
    "    observation_raw['active'] = int(observation_raw['left_team_designated_player'])  # for grf\n",
    "    observation_raw['sticky_actions'] = observation_raw['left_agent_sticky_actions']  # for tamakeri\n",
    "    return [observation_raw]"
   ]
  },
  {
   "cell_type": "code",
   "execution_count": 30,
   "id": "7cae93d6",
   "metadata": {},
   "outputs": [],
   "source": [
    "def _convert_observation(observation_raw):\n",
    "    observation_raw['active'] = int(observation_raw['left_team_designated_player'])  # for grf\n",
    "    observation_raw['sticky_actions'] = observation_raw['left_agent_sticky_actions'][0]  # for tamakeri\n",
    "    return [observation_raw]"
   ]
  },
  {
   "cell_type": "code",
   "execution_count": 31,
   "id": "e37fbf75",
   "metadata": {},
   "outputs": [
    {
     "data": {
      "text/plain": [
       "5"
      ]
     },
     "execution_count": 31,
     "metadata": {},
     "output_type": "execute_result"
    }
   ],
   "source": [
    "obs = _convert_observation(frame['observation'])\n",
    "grf_agent.step(obs)"
   ]
  },
  {
   "cell_type": "code",
   "execution_count": 27,
   "id": "270090b1",
   "metadata": {},
   "outputs": [],
   "source": [
    "from api.internal.tamakeri.env import to_tamakeri_obs"
   ]
  },
  {
   "cell_type": "code",
   "execution_count": 32,
   "id": "cb143754",
   "metadata": {
    "scrolled": false
   },
   "outputs": [
    {
     "data": {
      "text/plain": [
       "{'controlled_players': 1,\n",
       " 'players_raw': [{'ball': [0.0, -0.0, 0.11059734225273132],\n",
       "   'ball_direction': [-0.0, 0.0, -0.0019182914402335882],\n",
       "   'ball_rotation': [0.0, -0.0, 0.0],\n",
       "   'left_team': [[-1.0110293626785278, -0.0],\n",
       "    [-0.048872511833906174, 1.3186933316144955e-11],\n",
       "    [-0.010110294446349144, 0.21961753070354462],\n",
       "    [-0.4253305196762085, -0.19827446341514587],\n",
       "    [-0.5051397085189819, -0.0642440989613533],\n",
       "    [-0.5051285624504089, 0.06453930586576462],\n",
       "    [-0.4266543984413147, 0.19894461333751678],\n",
       "    [-0.18624374270439148, -0.10739918798208237],\n",
       "    [-0.270525187253952, -0.0],\n",
       "    [-0.18624374270439148, 0.10739918798208237],\n",
       "    [-0.010107884183526039, -0.21957246959209442]],\n",
       "   'left_team_direction': [[0.0, -0.0],\n",
       "    [0.0035862713120877743, 2.5969120950875002e-11],\n",
       "    [0.0, -0.0],\n",
       "    [0.002783536911010742, 0.0014629090437665582],\n",
       "    [0.0015041407896205783, 0.0013856797013431787],\n",
       "    [0.0019227757584303617, -0.0002725842932704836],\n",
       "    [0.0, -0.0],\n",
       "    [0.0, -0.0],\n",
       "    [0.0, -0.0],\n",
       "    [0.0, -0.0],\n",
       "    [2.4104820113279857e-05, 0.00043029419612139463]],\n",
       "   'left_team_tired_factor': [0.0,\n",
       "    6.496906280517578e-05,\n",
       "    0.0,\n",
       "    6.288290023803711e-05,\n",
       "    2.6404857635498047e-05,\n",
       "    1.424551010131836e-05,\n",
       "    0.0,\n",
       "    0.0,\n",
       "    0.0,\n",
       "    0.0,\n",
       "    2.2649765014648438e-06],\n",
       "   'left_team_active': [True,\n",
       "    True,\n",
       "    True,\n",
       "    True,\n",
       "    True,\n",
       "    True,\n",
       "    True,\n",
       "    True,\n",
       "    True,\n",
       "    True,\n",
       "    True],\n",
       "   'left_team_yellow_card': [False,\n",
       "    False,\n",
       "    False,\n",
       "    False,\n",
       "    False,\n",
       "    False,\n",
       "    False,\n",
       "    False,\n",
       "    False,\n",
       "    False,\n",
       "    False],\n",
       "   'left_team_roles': [0, 7, 9, 2, 1, 1, 3, 5, 5, 5, 6],\n",
       "   'left_team_designated_player': 1,\n",
       "   'right_team': [[1.0097122192382812, -9.740706852223724e-11],\n",
       "    [-1.7086131121057946e-10, -0.018752597272396088],\n",
       "    [-0.0015265807742252946, 0.02123763971030712],\n",
       "    [0.4266009032726288, 0.19891926646232605],\n",
       "    [0.5050480961799622, 0.06419018656015396],\n",
       "    [0.5042320489883423, -0.06439851969480515],\n",
       "    [0.4266543984413147, -0.19894461333751678],\n",
       "    [0.18624374270439148, 0.10739918798208237],\n",
       "    [0.27013033628463745, -3.026381421022961e-07],\n",
       "    [0.18624374270439148, -0.10739918798208237],\n",
       "    [0.010110294446349144, 0.21961550414562225]],\n",
       "   'right_team_direction': [[-0.003379934001713991, -2.2826521228758168e-10],\n",
       "    [-2.343026050954933e-10, 0.002478683367371559],\n",
       "    [-0.0025710351765155792, 0.001476655132137239],\n",
       "    [-0.0005350393475964665, -0.0002534765808377415],\n",
       "    [-0.0015854835510253906, -0.001315522938966751],\n",
       "    [-0.00327895674854517, 0.0005364988464862108],\n",
       "    [-0.0, 0.0],\n",
       "    [-0.0, 0.0],\n",
       "    [-0.001968005206435919, -1.9189672002539737e-06],\n",
       "    [-0.0, 0.0],\n",
       "    [-0.0, 0.0]],\n",
       "   'right_team_tired_factor': [4.667043685913086e-05,\n",
       "    9.34600830078125e-05,\n",
       "    7.987022399902344e-05,\n",
       "    2.5033950805664062e-06,\n",
       "    3.11732292175293e-05,\n",
       "    4.756450653076172e-05,\n",
       "    0.0,\n",
       "    0.0,\n",
       "    1.4483928680419922e-05,\n",
       "    0.0,\n",
       "    0.0],\n",
       "   'right_team_active': [True,\n",
       "    True,\n",
       "    True,\n",
       "    True,\n",
       "    True,\n",
       "    True,\n",
       "    True,\n",
       "    True,\n",
       "    True,\n",
       "    True,\n",
       "    True],\n",
       "   'right_team_yellow_card': [False,\n",
       "    False,\n",
       "    False,\n",
       "    False,\n",
       "    False,\n",
       "    False,\n",
       "    False,\n",
       "    False,\n",
       "    False,\n",
       "    False,\n",
       "    False],\n",
       "   'right_team_roles': [0, 7, 9, 2, 1, 1, 3, 5, 5, 5, 6],\n",
       "   'right_team_designated_player': 1,\n",
       "   'left_agent_sticky_actions': [[0, 0, 0, 0, 1, 0, 0, 0, 0, 0]],\n",
       "   'left_agent_controlled_player': [1],\n",
       "   'right_agent_sticky_actions': [],\n",
       "   'right_agent_controlled_player': [],\n",
       "   'game_mode': 0,\n",
       "   'score': [0, 0],\n",
       "   'ball_owned_team': -1,\n",
       "   'ball_owned_player': -1,\n",
       "   'steps_left': 3000,\n",
       "   'active': 1,\n",
       "   'sticky_actions': [0, 0, 0, 0, 1, 0, 0, 0, 0, 0]}]}"
      ]
     },
     "execution_count": 32,
     "metadata": {},
     "output_type": "execute_result"
    }
   ],
   "source": [
    "to_tamakeri_obs(obs)"
   ]
  },
  {
   "cell_type": "code",
   "execution_count": 33,
   "id": "90c17632",
   "metadata": {},
   "outputs": [
    {
     "data": {
      "text/plain": [
       "6"
      ]
     },
     "execution_count": 33,
     "metadata": {},
     "output_type": "execute_result"
    }
   ],
   "source": [
    "tamakeri_agent.step(obs)"
   ]
  },
  {
   "cell_type": "code",
   "execution_count": null,
   "id": "001e3564",
   "metadata": {},
   "outputs": [],
   "source": [
    "agent = TamakeriAgent()\n",
    "env = football_env.create_environment(\n",
    "        env_name='11_vs_11_easy_stochastic',\n",
    "        representation='raw',\n",
    "        number_of_left_players_agent_controls=1,\n",
    "        number_of_right_players_agent_controls=0\n",
    ")"
   ]
  },
  {
   "cell_type": "code",
   "execution_count": null,
   "id": "99832aa4",
   "metadata": {},
   "outputs": [],
   "source": [
    "obs, _, _, _ = env.step(agent.get_action())\n",
    "agent.step(obs)"
   ]
  },
  {
   "cell_type": "code",
   "execution_count": null,
   "id": "148a317b",
   "metadata": {},
   "outputs": [],
   "source": [
    "sum(agent.get_action_probs(to_name=True).values())"
   ]
  },
  {
   "cell_type": "code",
   "execution_count": null,
   "id": "05f2fa33",
   "metadata": {},
   "outputs": [],
   "source": [
    "agent.value[0]"
   ]
  },
  {
   "cell_type": "code",
   "execution_count": null,
   "id": "0a658ff2",
   "metadata": {},
   "outputs": [],
   "source": [
    "from api.internal.tamakeri.env import Action"
   ]
  },
  {
   "cell_type": "code",
   "execution_count": null,
   "id": "5d01928d",
   "metadata": {},
   "outputs": [],
   "source": [
    "agent.logit"
   ]
  },
  {
   "cell_type": "code",
   "execution_count": null,
   "id": "fa63bd79",
   "metadata": {},
   "outputs": [],
   "source": [
    "env = football_env.create_environment(\n",
    "        env_name='11_vs_11_easy_stochastic',\n",
    "        representation='raw',\n",
    "        number_of_left_players_agent_controls=1,\n",
    "        number_of_right_players_agent_controls=0,\n",
    "        logdir='/app/logs',\n",
    "        render=True\n",
    ")\n",
    "\n",
    "tamakeri_env = TamakeriEnv()\n",
    "model_path = '/app/api/resources/models/1679.pth'\n",
    "model = load_model(tamakeri_env.net()(tamakeri_env), model_path)\n",
    "model.eval()\n",
    "\n",
    "prev_action = 0\n",
    "reserved_action = None\n",
    "while True:\n",
    "    obs, reward, done, info = env.step([prev_action])\n",
    "    if done:\n",
    "        break\n",
    "\n",
    "    info = [{'observation': to_tamakeri_obs(obs), 'action': [prev_action]}, None]\n",
    "    tamakeri_env.play_info(info)\n",
    "    x = tamakeri_env.observation(0)\n",
    "\n",
    "    p, v, r, _ = model.inference(x, None)\n",
    "    actions = tamakeri_env.legal_actions(0)\n",
    "\n",
    "    ap_list = sorted([(a, p[a]) for a in actions], key=lambda x: -x[1])\n",
    "    action = ap_list[0][0]\n",
    "\n",
    "    if reserved_action is not None:\n",
    "        prev_action = reserved_action\n",
    "        reserved_action = None\n",
    "    else:\n",
    "        # split action\n",
    "        prev_action, reserved_action = tamakeri_env.special_to_actions(action)\n",
    "    break"
   ]
  },
  {
   "cell_type": "code",
   "execution_count": null,
   "id": "b493e17c",
   "metadata": {},
   "outputs": [],
   "source": [
    "obs"
   ]
  },
  {
   "cell_type": "code",
   "execution_count": null,
   "id": "2a3e5d70",
   "metadata": {},
   "outputs": [],
   "source": [
    "len(p)"
   ]
  },
  {
   "cell_type": "code",
   "execution_count": null,
   "id": "c90248bd",
   "metadata": {},
   "outputs": [],
   "source": [
    "for p_ in p:\n",
    "    print(p_)"
   ]
  },
  {
   "cell_type": "code",
   "execution_count": null,
   "id": "5b5160d3",
   "metadata": {},
   "outputs": [],
   "source": [
    "for o in obs:\n",
    "    if 'frame' in o:\n",
    "        del o['frame']"
   ]
  },
  {
   "cell_type": "code",
   "execution_count": null,
   "id": "f07ad0c8",
   "metadata": {},
   "outputs": [],
   "source": [
    "to_tamakeri_obs(obs)"
   ]
  },
  {
   "cell_type": "code",
   "execution_count": null,
   "id": "43781d37",
   "metadata": {},
   "outputs": [],
   "source": [
    "import torch\n",
    "\n",
    "def load_model(model, model_path):\n",
    "    loaded_dict_ = torch.load(model_path)\n",
    "    model_dict = model.state_dict()\n",
    "    loaded_dict = {k: v for k, v in loaded_dict_.items() if k in model_dict}\n",
    "    model_dict.update(loaded_dict)\n",
    "    model.load_state_dict(model_dict)\n",
    "    return model"
   ]
  },
  {
   "cell_type": "code",
   "execution_count": null,
   "id": "0858246d",
   "metadata": {},
   "outputs": [],
   "source": [
    "from api.internal.tamakeri import Environment as TamakeriEnv\n",
    "from api.internal.tamakeri.env import OBS_TEMPLATE"
   ]
  },
  {
   "cell_type": "code",
   "execution_count": null,
   "id": "c0141491",
   "metadata": {
    "scrolled": true
   },
   "outputs": [],
   "source": [
    "tamakeri_env = TamakeriEnv()\n",
    "model_path = '/app/api/resources/models/1679.pth'\n",
    "model = load_model(tamakeri_env.net()(tamakeri_env), model_path)\n",
    "model.eval()"
   ]
  },
  {
   "cell_type": "code",
   "execution_count": null,
   "id": "f5f43cd9",
   "metadata": {},
   "outputs": [],
   "source": [
    "import gfootball.env as football_env"
   ]
  },
  {
   "cell_type": "code",
   "execution_count": null,
   "id": "6a1524e0",
   "metadata": {},
   "outputs": [],
   "source": [
    "grf_env = football_env.create_environment(\n",
    "        env_name='11_vs_11_easy_stochastic',\n",
    "        representation='raw',\n",
    "        number_of_left_players_agent_controls=1,\n",
    "        number_of_right_players_agent_controls=0\n",
    "    )"
   ]
  },
  {
   "cell_type": "code",
   "execution_count": null,
   "id": "b0b9f6f9",
   "metadata": {},
   "outputs": [],
   "source": [
    "grf_obs, reward, done, info = grf_env.step([0])"
   ]
  },
  {
   "cell_type": "code",
   "execution_count": null,
   "id": "7159296e",
   "metadata": {},
   "outputs": [],
   "source": [
    "def to_tamakeri_obs(grf_obs):\n",
    "    tamakeri_obs = {\n",
    "        'controlled_players': grf_obs[0]['active'],\n",
    "        'players_raw': to_list(grf_obs)\n",
    "    }\n",
    "    return tamakeri_obs"
   ]
  },
  {
   "cell_type": "code",
   "execution_count": null,
   "id": "d048d75b",
   "metadata": {},
   "outputs": [],
   "source": [
    "from api.internal.tamakeri.model import map_r\n",
    "\n",
    "def to_list(x):\n",
    "    return map_r(x, lambda x: x.tolist() if isinstance(x, np.ndarray) else x)"
   ]
  },
  {
   "cell_type": "code",
   "execution_count": null,
   "id": "3f112a53",
   "metadata": {},
   "outputs": [],
   "source": [
    "to_list(grf_obs)"
   ]
  },
  {
   "cell_type": "code",
   "execution_count": null,
   "id": "b88da8d0",
   "metadata": {},
   "outputs": [],
   "source": [
    "type(grf_obs[0]['ball'])\n",
    "\n",
    "isinstance(grf_obs[0]['ball'], np.ndarray)"
   ]
  },
  {
   "cell_type": "code",
   "execution_count": null,
   "id": "6dd9e236",
   "metadata": {},
   "outputs": [],
   "source": [
    "obs[0]['designated']"
   ]
  },
  {
   "cell_type": "code",
   "execution_count": null,
   "id": "9081af7b",
   "metadata": {},
   "outputs": [],
   "source": [
    "t_obs = OBS_TEMPLATE['players_raw'][0]\n",
    "grf_obs = grf_obs[0]"
   ]
  },
  {
   "cell_type": "code",
   "execution_count": null,
   "id": "f49f5734",
   "metadata": {},
   "outputs": [],
   "source": [
    "t_obs.keys()"
   ]
  },
  {
   "cell_type": "code",
   "execution_count": null,
   "id": "d0642291",
   "metadata": {},
   "outputs": [],
   "source": [
    "grf_obs.keys()"
   ]
  },
  {
   "cell_type": "code",
   "execution_count": null,
   "id": "23b55805",
   "metadata": {},
   "outputs": [],
   "source": [
    "grf_obs[0]['left_team'].shape, grf_obs[0]['right_team'].shape"
   ]
  },
  {
   "cell_type": "code",
   "execution_count": null,
   "id": "785dbd2d",
   "metadata": {},
   "outputs": [],
   "source": [
    "import numpy as np\n",
    "\n",
    "np.array(OBS_TEMPLATE['players_raw'][0]['left_team']).shape"
   ]
  },
  {
   "cell_type": "code",
   "execution_count": null,
   "id": "5a34334b",
   "metadata": {},
   "outputs": [],
   "source": [
    "nested_keys = set(['player', 'player_index', 'distance'])\n",
    "\n",
    "for key in t_x.keys():\n",
    "    print(key)\n",
    "    if key in nested_keys:\n",
    "        for k in t_x[key].keys():\n",
    "            print(t_x[key][k].shape)\n",
    "            print(grf_x[key][k].shape)\n",
    "        print()\n",
    "    else:\n",
    "        print(t_x[key].shape)\n",
    "        print(grf_x[key].shape)\n",
    "        print()"
   ]
  },
  {
   "cell_type": "code",
   "execution_count": null,
   "id": "b553b77b",
   "metadata": {},
   "outputs": [],
   "source": [
    "tamakeri_env = "
   ]
  },
  {
   "cell_type": "code",
   "execution_count": null,
   "id": "55e49297",
   "metadata": {},
   "outputs": [],
   "source": [
    "prev_action = 0\n",
    "\n",
    "info = [{'observation': to_tamakeri_obs(grf_obs), 'action': [prev_action]}, None]\n",
    "# info = [{'observation': OBS_TEMPLATE, 'action': [prev_action]}, None]\n",
    "tamakeri_env.play_info(info)\n",
    "x = tamakeri_env.observation(0)\n",
    "p, v, r, _ = model.inference(x, None)\n",
    "p, v, r, _"
   ]
  },
  {
   "cell_type": "code",
   "execution_count": null,
   "id": "eb1a1a6b",
   "metadata": {},
   "outputs": [],
   "source": [
    "x['distance']['p2bo'].shape"
   ]
  },
  {
   "cell_type": "code",
   "execution_count": null,
   "id": "bed70529",
   "metadata": {},
   "outputs": [],
   "source": [
    "t_x['distance']['p2bo'].shape"
   ]
  },
  {
   "cell_type": "code",
   "execution_count": null,
   "id": "bcfb99fb",
   "metadata": {},
   "outputs": [],
   "source": [
    "t_x = x\n",
    "t_x"
   ]
  },
  {
   "cell_type": "code",
   "execution_count": null,
   "id": "df524d86",
   "metadata": {},
   "outputs": [],
   "source": [
    "for key in t_x.keys():\n",
    "    print(key)\n",
    "    print(t_x[key])\n",
    "    print(grf_x[key])"
   ]
  },
  {
   "cell_type": "code",
   "execution_count": null,
   "id": "c6e97afd",
   "metadata": {},
   "outputs": [],
   "source": [
    "grf_x = x\n",
    "grf_x"
   ]
  },
  {
   "cell_type": "code",
   "execution_count": null,
   "id": "cf5b6381",
   "metadata": {},
   "outputs": [],
   "source": [
    "OBS_TEMPLATE['players_raw'][0]['left_team']"
   ]
  },
  {
   "cell_type": "code",
   "execution_count": null,
   "id": "8635a020",
   "metadata": {},
   "outputs": [],
   "source": [
    "grf_obs[0]['left_team'Developer"
   ]
  },
  {
   "cell_type": "code",
   "execution_count": null,
   "id": "36a97309",
   "metadata": {},
   "outputs": [],
   "source": [
    "x['distance']"
   ]
  },
  {
   "cell_type": "code",
   "execution_count": null,
   "id": "7bc25131",
   "metadata": {},
   "outputs": [],
   "source": [
    "obs[0]"
   ]
  },
  {
   "cell_type": "code",
   "execution_count": null,
   "id": "9a101308",
   "metadata": {
    "scrolled": false
   },
   "outputs": [],
   "source": [
    "OBS_TEMPLATE"
   ]
  },
  {
   "cell_type": "code",
   "execution_count": null,
   "id": "816ebb10",
   "metadata": {},
   "outputs": [],
   "source": [
    "player_state['observation']"
   ]
  },
  {
   "cell_type": "code",
   "execution_count": null,
   "id": "edab2b88",
   "metadata": {},
   "outputs": [],
   "source": [
    "obs"
   ]
  },
  {
   "cell_type": "code",
   "execution_count": null,
   "id": "88d7fa6e",
   "metadata": {},
   "outputs": [],
   "source": [
    "info"
   ]
  },
  {
   "cell_type": "code",
   "execution_count": null,
   "id": "8c8f0a4a",
   "metadata": {},
   "outputs": [],
   "source": []
  }
 ],
 "metadata": {
  "kernelspec": {
   "display_name": "Python 3",
   "language": "python",
   "name": "python3"
  },
  "language_info": {
   "codemirror_mode": {
    "name": "ipython",
    "version": 3
   },
   "file_extension": ".py",
   "mimetype": "text/x-python",
   "name": "python",
   "nbconvert_exporter": "python",
   "pygments_lexer": "ipython3",
   "version": "3.6.9"
  }
 },
 "nbformat": 4,
 "nbformat_minor": 5
}
