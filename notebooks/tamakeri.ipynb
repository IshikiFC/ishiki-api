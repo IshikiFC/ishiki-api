{
 "cells": [
  {
   "cell_type": "code",
   "execution_count": 1,
   "id": "64a699c4",
   "metadata": {},
   "outputs": [
    {
     "name": "stdout",
     "output_type": "stream",
     "text": [
      "WARNING:tensorflow:From /usr/local/lib/python3.6/dist-packages/baselines/common/input.py:31: The name tf.placeholder is deprecated. Please use tf.compat.v1.placeholder instead.\n",
      "\n",
      "WARNING:tensorflow:From /usr/local/lib/python3.6/dist-packages/baselines/common/input.py:57: to_float (from tensorflow.python.ops.math_ops) is deprecated and will be removed in a future version.\n",
      "Instructions for updating:\n",
      "Use `tf.cast` instead.\n",
      "WARNING:tensorflow:From /usr/local/lib/python3.6/dist-packages/baselines/common/policies.py:141: The name tf.variable_scope is deprecated. Please use tf.compat.v1.variable_scope instead.\n",
      "\n",
      "WARNING:tensorflow:From /usr/local/lib/python3.6/dist-packages/baselines/common/policies.py:141: The name tf.AUTO_REUSE is deprecated. Please use tf.compat.v1.AUTO_REUSE instead.\n",
      "\n",
      "WARNING:tensorflow:From /usr/local/lib/python3.6/dist-packages/sonnet/python/modules/conv.py:325: calling TruncatedNormal.__init__ (from tensorflow.python.ops.init_ops) with dtype is deprecated and will be removed in a future version.\n",
      "Instructions for updating:\n",
      "Call initializer instance with the dtype argument instead of passing it to the constructor\n",
      "WARNING:tensorflow:From /usr/local/lib/python3.6/dist-packages/sonnet/python/modules/conv.py:330: calling Zeros.__init__ (from tensorflow.python.ops.init_ops) with dtype is deprecated and will be removed in a future version.\n",
      "Instructions for updating:\n",
      "Call initializer instance with the dtype argument instead of passing it to the constructor\n",
      "WARNING:tensorflow:From /usr/local/lib/python3.6/dist-packages/baselines/common/policies.py:43: flatten (from tensorflow.python.layers.core) is deprecated and will be removed in a future version.\n",
      "Instructions for updating:\n",
      "Use keras.layers.flatten instead.\n",
      "WARNING:tensorflow:From /usr/local/lib/python3.6/dist-packages/tensorflow_core/python/layers/core.py:332: Layer.apply (from tensorflow.python.keras.engine.base_layer) is deprecated and will be removed in a future version.\n",
      "Instructions for updating:\n",
      "Please use `layer.__call__` method instead.\n",
      "WARNING:tensorflow:From /usr/local/lib/python3.6/dist-packages/baselines/a2c/utils.py:61: The name tf.get_variable is deprecated. Please use tf.compat.v1.get_variable instead.\n",
      "\n",
      "WARNING:tensorflow:From /usr/local/lib/python3.6/dist-packages/baselines/common/distributions.py:200: The name tf.random_uniform is deprecated. Please use tf.random.uniform instead.\n",
      "\n",
      "WARNING:tensorflow:From /usr/local/lib/python3.6/dist-packages/baselines/common/distributions.py:201: The name tf.log is deprecated. Please use tf.math.log instead.\n",
      "\n"
     ]
    }
   ],
   "source": [
    "import sys, os\n",
    "sys.path.append(os.pardir)\n",
    "\n",
    "import gfootball.env as football_env\n",
    "from api.internal.tamakeri import TamakeriAgent\n",
    "from api.internal.grf import GrfAgent"
   ]
  },
  {
   "cell_type": "code",
   "execution_count": 14,
   "id": "74a1f24d",
   "metadata": {},
   "outputs": [],
   "source": [
    "grf_agent = GrfAgent()\n",
    "tamakeri_agent = TamakeriAgent()"
   ]
  },
  {
   "cell_type": "code",
   "execution_count": 5,
   "id": "3aa7b41c",
   "metadata": {},
   "outputs": [],
   "source": [
    "dump_fp = '/app/api/resources/matches/episode_done_20210918-064519149416.dump'\n",
    "from gfootball.env import script_helpers, observation_preprocessing\n",
    "\n",
    "dump_raw = script_helpers.ScriptHelpers().load_dump(dump_fp)"
   ]
  },
  {
   "cell_type": "code",
   "execution_count": 19,
   "id": "864d590c",
   "metadata": {},
   "outputs": [],
   "source": [
    "for frame in dump_raw:\n",
    "    break\n",
    "    \n",
    "def _convert_observation(observation_raw):\n",
    "    observation_raw['active'] = int(observation_raw['right_team_designated_player'])\n",
    "    return [observation_raw]"
   ]
  },
  {
   "cell_type": "code",
   "execution_count": 21,
   "id": "879876aa",
   "metadata": {},
   "outputs": [
    {
     "data": {
      "text/plain": [
       "5"
      ]
     },
     "execution_count": 21,
     "metadata": {},
     "output_type": "execute_result"
    }
   ],
   "source": [
    "grf_agent.step(_convert_observation(frame['observation']))"
   ]
  },
  {
   "cell_type": "code",
   "execution_count": 8,
   "id": "17c3b6a5",
   "metadata": {},
   "outputs": [
    {
     "data": {
      "text/plain": [
       "{'ball': array([ 0.        , -0.        ,  0.11059734]),\n",
       " 'ball_direction': array([-0.        ,  0.        , -0.00191829]),\n",
       " 'ball_rotation': array([ 0., -0.,  0.]),\n",
       " 'left_team': array([[-1.01102936e+00, -0.00000000e+00],\n",
       "        [-4.88725118e-02,  1.31869333e-11],\n",
       "        [-1.01102944e-02,  2.19617531e-01],\n",
       "        [-4.25330520e-01, -1.98274463e-01],\n",
       "        [-5.05139709e-01, -6.42440990e-02],\n",
       "        [-5.05128562e-01,  6.45393059e-02],\n",
       "        [-4.26654398e-01,  1.98944613e-01],\n",
       "        [-1.86243743e-01, -1.07399188e-01],\n",
       "        [-2.70525187e-01, -0.00000000e+00],\n",
       "        [-1.86243743e-01,  1.07399188e-01],\n",
       "        [-1.01078842e-02, -2.19572470e-01]]),\n",
       " 'left_team_direction': array([[ 0.00000000e+00, -0.00000000e+00],\n",
       "        [ 3.58627131e-03,  2.59691210e-11],\n",
       "        [ 0.00000000e+00, -0.00000000e+00],\n",
       "        [ 2.78353691e-03,  1.46290904e-03],\n",
       "        [ 1.50414079e-03,  1.38567970e-03],\n",
       "        [ 1.92277576e-03, -2.72584293e-04],\n",
       "        [ 0.00000000e+00, -0.00000000e+00],\n",
       "        [ 0.00000000e+00, -0.00000000e+00],\n",
       "        [ 0.00000000e+00, -0.00000000e+00],\n",
       "        [ 0.00000000e+00, -0.00000000e+00],\n",
       "        [ 2.41048201e-05,  4.30294196e-04]]),\n",
       " 'left_team_tired_factor': array([0.00000000e+00, 6.49690628e-05, 0.00000000e+00, 6.28829002e-05,\n",
       "        2.64048576e-05, 1.42455101e-05, 0.00000000e+00, 0.00000000e+00,\n",
       "        0.00000000e+00, 0.00000000e+00, 2.26497650e-06]),\n",
       " 'left_team_active': array([ True,  True,  True,  True,  True,  True,  True,  True,  True,\n",
       "         True,  True]),\n",
       " 'left_team_yellow_card': array([False, False, False, False, False, False, False, False, False,\n",
       "        False, False]),\n",
       " 'left_team_roles': array([0, 7, 9, 2, 1, 1, 3, 5, 5, 5, 6]),\n",
       " 'left_team_designated_player': 1,\n",
       " 'right_team': array([[ 1.00971222e+00, -9.74070685e-11],\n",
       "        [-1.70861311e-10, -1.87525973e-02],\n",
       "        [-1.52658077e-03,  2.12376397e-02],\n",
       "        [ 4.26600903e-01,  1.98919266e-01],\n",
       "        [ 5.05048096e-01,  6.41901866e-02],\n",
       "        [ 5.04232049e-01, -6.43985197e-02],\n",
       "        [ 4.26654398e-01, -1.98944613e-01],\n",
       "        [ 1.86243743e-01,  1.07399188e-01],\n",
       "        [ 2.70130336e-01, -3.02638142e-07],\n",
       "        [ 1.86243743e-01, -1.07399188e-01],\n",
       "        [ 1.01102944e-02,  2.19615504e-01]]),\n",
       " 'right_team_direction': array([[-3.37993400e-03, -2.28265212e-10],\n",
       "        [-2.34302605e-10,  2.47868337e-03],\n",
       "        [-2.57103518e-03,  1.47665513e-03],\n",
       "        [-5.35039348e-04, -2.53476581e-04],\n",
       "        [-1.58548355e-03, -1.31552294e-03],\n",
       "        [-3.27895675e-03,  5.36498846e-04],\n",
       "        [-0.00000000e+00,  0.00000000e+00],\n",
       "        [-0.00000000e+00,  0.00000000e+00],\n",
       "        [-1.96800521e-03, -1.91896720e-06],\n",
       "        [-0.00000000e+00,  0.00000000e+00],\n",
       "        [-0.00000000e+00,  0.00000000e+00]]),\n",
       " 'right_team_tired_factor': array([4.66704369e-05, 9.34600830e-05, 7.98702240e-05, 2.50339508e-06,\n",
       "        3.11732292e-05, 4.75645065e-05, 0.00000000e+00, 0.00000000e+00,\n",
       "        1.44839287e-05, 0.00000000e+00, 0.00000000e+00]),\n",
       " 'right_team_active': array([ True,  True,  True,  True,  True,  True,  True,  True,  True,\n",
       "         True,  True]),\n",
       " 'right_team_yellow_card': array([False, False, False, False, False, False, False, False, False,\n",
       "        False, False]),\n",
       " 'right_team_roles': array([0, 7, 9, 2, 1, 1, 3, 5, 5, 5, 6]),\n",
       " 'right_team_designated_player': 1,\n",
       " 'left_agent_sticky_actions': [array([0, 0, 0, 0, 1, 0, 0, 0, 0, 0], dtype=uint8)],\n",
       " 'left_agent_controlled_player': [1],\n",
       " 'right_agent_sticky_actions': [],\n",
       " 'right_agent_controlled_player': [],\n",
       " 'game_mode': 0,\n",
       " 'score': [0, 0],\n",
       " 'ball_owned_team': -1,\n",
       " 'ball_owned_player': -1,\n",
       " 'steps_left': 3000}"
      ]
     },
     "execution_count": 8,
     "metadata": {},
     "output_type": "execute_result"
    }
   ],
   "source": [
    "frame['observation']"
   ]
  },
  {
   "cell_type": "code",
   "execution_count": null,
   "id": "87385748",
   "metadata": {},
   "outputs": [],
   "source": [
    "agent = TamakeriAgent()\n",
    "env = football_env.create_environment(\n",
    "        env_name='11_vs_11_easy_stochastic',\n",
    "        representation='raw',\n",
    "        number_of_left_players_agent_controls=1,\n",
    "        number_of_right_players_agent_controls=0\n",
    ")"
   ]
  },
  {
   "cell_type": "code",
   "execution_count": null,
   "id": "99059b01",
   "metadata": {},
   "outputs": [],
   "source": [
    "obs, _, _, _ = env.step(agent.get_action())\n",
    "agent.step(obs)"
   ]
  },
  {
   "cell_type": "code",
   "execution_count": null,
   "id": "4100b862",
   "metadata": {},
   "outputs": [],
   "source": [
    "sum(agent.get_action_probs(to_name=True).values())"
   ]
  },
  {
   "cell_type": "code",
   "execution_count": null,
   "id": "0f660821",
   "metadata": {},
   "outputs": [],
   "source": [
    "agent.value[0]"
   ]
  },
  {
   "cell_type": "code",
   "execution_count": null,
   "id": "d3afca14",
   "metadata": {},
   "outputs": [],
   "source": [
    "from api.internal.tamakeri.env import Action"
   ]
  },
  {
   "cell_type": "code",
   "execution_count": null,
   "id": "596f0841",
   "metadata": {},
   "outputs": [],
   "source": [
    "agent.logit"
   ]
  },
  {
   "cell_type": "code",
   "execution_count": null,
   "id": "406a04a8",
   "metadata": {},
   "outputs": [],
   "source": [
    "env = football_env.create_environment(\n",
    "        env_name='11_vs_11_easy_stochastic',\n",
    "        representation='raw',\n",
    "        number_of_left_players_agent_controls=1,\n",
    "        number_of_right_players_agent_controls=0,\n",
    "        logdir='/app/logs',\n",
    "        render=True\n",
    ")\n",
    "\n",
    "tamakeri_env = TamakeriEnv()\n",
    "model_path = '/app/api/resources/models/1679.pth'\n",
    "model = load_model(tamakeri_env.net()(tamakeri_env), model_path)\n",
    "model.eval()\n",
    "\n",
    "prev_action = 0\n",
    "reserved_action = None\n",
    "while True:\n",
    "    obs, reward, done, info = env.step([prev_action])\n",
    "    if done:\n",
    "        break\n",
    "\n",
    "    info = [{'observation': to_tamakeri_obs(obs), 'action': [prev_action]}, None]\n",
    "    tamakeri_env.play_info(info)\n",
    "    x = tamakeri_env.observation(0)\n",
    "\n",
    "    p, v, r, _ = model.inference(x, None)\n",
    "    actions = tamakeri_env.legal_actions(0)\n",
    "\n",
    "    ap_list = sorted([(a, p[a]) for a in actions], key=lambda x: -x[1])\n",
    "    action = ap_list[0][0]\n",
    "\n",
    "    if reserved_action is not None:\n",
    "        prev_action = reserved_action\n",
    "        reserved_action = None\n",
    "    else:\n",
    "        # split action\n",
    "        prev_action, reserved_action = tamakeri_env.special_to_actions(action)\n",
    "    break"
   ]
  },
  {
   "cell_type": "code",
   "execution_count": null,
   "id": "9db8725e",
   "metadata": {},
   "outputs": [],
   "source": [
    "obs"
   ]
  },
  {
   "cell_type": "code",
   "execution_count": null,
   "id": "ca3a7c03",
   "metadata": {},
   "outputs": [],
   "source": [
    "len(p)"
   ]
  },
  {
   "cell_type": "code",
   "execution_count": null,
   "id": "d96c1293",
   "metadata": {},
   "outputs": [],
   "source": [
    "for p_ in p:\n",
    "    print(p_)"
   ]
  },
  {
   "cell_type": "code",
   "execution_count": null,
   "id": "98ac25e4",
   "metadata": {},
   "outputs": [],
   "source": [
    "for o in obs:\n",
    "    if 'frame' in o:\n",
    "        del o['frame']"
   ]
  },
  {
   "cell_type": "code",
   "execution_count": null,
   "id": "6fffd9d3",
   "metadata": {},
   "outputs": [],
   "source": [
    "to_tamakeri_obs(obs)"
   ]
  },
  {
   "cell_type": "code",
   "execution_count": null,
   "id": "43781d37",
   "metadata": {},
   "outputs": [],
   "source": [
    "import torch\n",
    "\n",
    "def load_model(model, model_path):\n",
    "    loaded_dict_ = torch.load(model_path)\n",
    "    model_dict = model.state_dict()\n",
    "    loaded_dict = {k: v for k, v in loaded_dict_.items() if k in model_dict}\n",
    "    model_dict.update(loaded_dict)\n",
    "    model.load_state_dict(model_dict)\n",
    "    return model"
   ]
  },
  {
   "cell_type": "code",
   "execution_count": null,
   "id": "0858246d",
   "metadata": {},
   "outputs": [],
   "source": [
    "from api.internal.tamakeri import Environment as TamakeriEnv\n",
    "from api.internal.tamakeri.env import OBS_TEMPLATE"
   ]
  },
  {
   "cell_type": "code",
   "execution_count": null,
   "id": "c4a68a0b",
   "metadata": {
    "scrolled": true
   },
   "outputs": [],
   "source": [
    "tamakeri_env = TamakeriEnv()\n",
    "model_path = '/app/api/resources/models/1679.pth'\n",
    "model = load_model(tamakeri_env.net()(tamakeri_env), model_path)\n",
    "model.eval()"
   ]
  },
  {
   "cell_type": "code",
   "execution_count": null,
   "id": "7ef070d1",
   "metadata": {},
   "outputs": [],
   "source": [
    "import gfootball.env as football_env"
   ]
  },
  {
   "cell_type": "code",
   "execution_count": null,
   "id": "8bc2941a",
   "metadata": {},
   "outputs": [],
   "source": [
    "grf_env = football_env.create_environment(\n",
    "        env_name='11_vs_11_easy_stochastic',\n",
    "        representation='raw',\n",
    "        number_of_left_players_agent_controls=1,\n",
    "        number_of_right_players_agent_controls=0\n",
    "    )"
   ]
  },
  {
   "cell_type": "code",
   "execution_count": null,
   "id": "6c9a5406",
   "metadata": {},
   "outputs": [],
   "source": [
    "grf_obs, reward, done, info = grf_env.step([0])"
   ]
  },
  {
   "cell_type": "code",
   "execution_count": null,
   "id": "5cbe7660",
   "metadata": {},
   "outputs": [],
   "source": [
    "def to_tamakeri_obs(grf_obs):\n",
    "    tamakeri_obs = {\n",
    "        'controlled_players': grf_obs[0]['active'],\n",
    "        'players_raw': to_list(grf_obs)\n",
    "    }\n",
    "    return tamakeri_obs"
   ]
  },
  {
   "cell_type": "code",
   "execution_count": null,
   "id": "50cf596b",
   "metadata": {},
   "outputs": [],
   "source": [
    "from api.internal.tamakeri.model import map_r\n",
    "\n",
    "def to_list(x):\n",
    "    return map_r(x, lambda x: x.tolist() if isinstance(x, np.ndarray) else x)"
   ]
  },
  {
   "cell_type": "code",
   "execution_count": null,
   "id": "78fd3f36",
   "metadata": {},
   "outputs": [],
   "source": [
    "to_list(grf_obs)"
   ]
  },
  {
   "cell_type": "code",
   "execution_count": null,
   "id": "01aafa43",
   "metadata": {},
   "outputs": [],
   "source": [
    "type(grf_obs[0]['ball'])\n",
    "\n",
    "isinstance(grf_obs[0]['ball'], np.ndarray)"
   ]
  },
  {
   "cell_type": "code",
   "execution_count": null,
   "id": "bed3e90f",
   "metadata": {},
   "outputs": [],
   "source": [
    "obs[0]['designated']"
   ]
  },
  {
   "cell_type": "code",
   "execution_count": null,
   "id": "03e9411e",
   "metadata": {},
   "outputs": [],
   "source": [
    "t_obs = OBS_TEMPLATE['players_raw'][0]\n",
    "grf_obs = grf_obs[0]"
   ]
  },
  {
   "cell_type": "code",
   "execution_count": null,
   "id": "827838ff",
   "metadata": {},
   "outputs": [],
   "source": [
    "t_obs.keys()"
   ]
  },
  {
   "cell_type": "code",
   "execution_count": null,
   "id": "487b635a",
   "metadata": {},
   "outputs": [],
   "source": [
    "grf_obs.keys()"
   ]
  },
  {
   "cell_type": "code",
   "execution_count": null,
   "id": "7fd90b43",
   "metadata": {},
   "outputs": [],
   "source": [
    "grf_obs[0]['left_team'].shape, grf_obs[0]['right_team'].shape"
   ]
  },
  {
   "cell_type": "code",
   "execution_count": null,
   "id": "ec54c1f4",
   "metadata": {},
   "outputs": [],
   "source": [
    "import numpy as np\n",
    "\n",
    "np.array(OBS_TEMPLATE['players_raw'][0]['left_team']).shape"
   ]
  },
  {
   "cell_type": "code",
   "execution_count": null,
   "id": "7c9bddcb",
   "metadata": {},
   "outputs": [],
   "source": [
    "nested_keys = set(['player', 'player_index', 'distance'])\n",
    "\n",
    "for key in t_x.keys():\n",
    "    print(key)\n",
    "    if key in nested_keys:\n",
    "        for k in t_x[key].keys():\n",
    "            print(t_x[key][k].shape)\n",
    "            print(grf_x[key][k].shape)\n",
    "        print()\n",
    "    else:\n",
    "        print(t_x[key].shape)\n",
    "        print(grf_x[key].shape)\n",
    "        print()"
   ]
  },
  {
   "cell_type": "code",
   "execution_count": null,
   "id": "d66b1a1a",
   "metadata": {},
   "outputs": [],
   "source": [
    "tamakeri_env = "
   ]
  },
  {
   "cell_type": "code",
   "execution_count": null,
   "id": "e9356666",
   "metadata": {},
   "outputs": [],
   "source": [
    "prev_action = 0\n",
    "\n",
    "info = [{'observation': to_tamakeri_obs(grf_obs), 'action': [prev_action]}, None]\n",
    "# info = [{'observation': OBS_TEMPLATE, 'action': [prev_action]}, None]\n",
    "tamakeri_env.play_info(info)\n",
    "x = tamakeri_env.observation(0)\n",
    "p, v, r, _ = model.inference(x, None)\n",
    "p, v, r, _"
   ]
  },
  {
   "cell_type": "code",
   "execution_count": null,
   "id": "0cefff68",
   "metadata": {},
   "outputs": [],
   "source": [
    "x['distance']['p2bo'].shape"
   ]
  },
  {
   "cell_type": "code",
   "execution_count": null,
   "id": "cff2c776",
   "metadata": {},
   "outputs": [],
   "source": [
    "t_x['distance']['p2bo'].shape"
   ]
  },
  {
   "cell_type": "code",
   "execution_count": null,
   "id": "96c007b7",
   "metadata": {},
   "outputs": [],
   "source": [
    "t_x = x\n",
    "t_x"
   ]
  },
  {
   "cell_type": "code",
   "execution_count": null,
   "id": "87173f41",
   "metadata": {},
   "outputs": [],
   "source": [
    "for key in t_x.keys():\n",
    "    print(key)\n",
    "    print(t_x[key])\n",
    "    print(grf_x[key])"
   ]
  },
  {
   "cell_type": "code",
   "execution_count": null,
   "id": "850f4b96",
   "metadata": {},
   "outputs": [],
   "source": [
    "grf_x = x\n",
    "grf_x"
   ]
  },
  {
   "cell_type": "code",
   "execution_count": null,
   "id": "cc012b31",
   "metadata": {},
   "outputs": [],
   "source": [
    "OBS_TEMPLATE['players_raw'][0]['left_team']"
   ]
  },
  {
   "cell_type": "code",
   "execution_count": null,
   "id": "fb69893f",
   "metadata": {},
   "outputs": [],
   "source": [
    "grf_obs[0]['left_team'Developer"
   ]
  },
  {
   "cell_type": "code",
   "execution_count": null,
   "id": "77ed0a80",
   "metadata": {},
   "outputs": [],
   "source": [
    "x['distance']"
   ]
  },
  {
   "cell_type": "code",
   "execution_count": null,
   "id": "43dcdf5d",
   "metadata": {},
   "outputs": [],
   "source": [
    "obs[0]"
   ]
  },
  {
   "cell_type": "code",
   "execution_count": null,
   "id": "6aca8cdb",
   "metadata": {
    "scrolled": false
   },
   "outputs": [],
   "source": [
    "OBS_TEMPLATE"
   ]
  },
  {
   "cell_type": "code",
   "execution_count": null,
   "id": "e5acf0f0",
   "metadata": {},
   "outputs": [],
   "source": [
    "player_state['observation']"
   ]
  },
  {
   "cell_type": "code",
   "execution_count": null,
   "id": "a364fb2b",
   "metadata": {},
   "outputs": [],
   "source": [
    "obs"
   ]
  },
  {
   "cell_type": "code",
   "execution_count": null,
   "id": "c89fc61a",
   "metadata": {},
   "outputs": [],
   "source": [
    "info"
   ]
  },
  {
   "cell_type": "code",
   "execution_count": null,
   "id": "379c8e7a",
   "metadata": {},
   "outputs": [],
   "source": []
  }
 ],
 "metadata": {
  "kernelspec": {
   "display_name": "Python 3",
   "language": "python",
   "name": "python3"
  },
  "language_info": {
   "codemirror_mode": {
    "name": "ipython",
    "version": 3
   },
   "file_extension": ".py",
   "mimetype": "text/x-python",
   "name": "python",
   "nbconvert_exporter": "python",
   "pygments_lexer": "ipython3",
   "version": "3.6.9"
  }
 },
 "nbformat": 4,
 "nbformat_minor": 5
}
